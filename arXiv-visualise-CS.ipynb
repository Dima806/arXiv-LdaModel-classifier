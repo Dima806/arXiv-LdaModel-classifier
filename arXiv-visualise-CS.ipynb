{
 "cells": [
  {
   "cell_type": "code",
   "execution_count": 1,
   "metadata": {
    "collapsed": true
   },
   "outputs": [],
   "source": [
    "#import urllib, urllib3\n",
    "from bs4 import BeautifulSoup\n",
    "import requests\n",
    "import time\n",
    "import io\n",
    "import numpy as np\n",
    "#import nltk\n",
    "#from nltk.corpus import wordnet as wn\n",
    "import pandas as pd\n",
    "from sklearn.feature_extraction.text import CountVectorizer\n",
    "import gensim\n",
    "from gensim.models.ldamodel import LdaModel"
   ]
  },
  {
   "cell_type": "markdown",
   "metadata": {},
   "source": [
    "Downloading abstracts and from computer science papers using [arXiv.org](https://arxiv.org) API and group them by years:"
   ]
  },
  {
   "cell_type": "code",
   "execution_count": 2,
   "metadata": {},
   "outputs": [
    {
     "name": "stdout",
     "output_type": "stream",
     "text": [
      "\t>>> Downloading 500 chunk from 500:\n",
      "Running time is 430.397980928421s\n",
      "15338\n"
     ]
    }
   ],
   "source": [
    "start_time = time.time()\n",
    "myfile = open(\"log-0.txt\", \"w\")\n",
    "myfile.close()\n",
    "\n",
    "n_attempts = 500\n",
    "max_articles_per_attempt = 50\n",
    "for i in range(n_attempts):\n",
    "    print(\"\\r\\t>>> Downloading {} chunk from {}:\".format(i+1, n_attempts), end='')\n",
    "    n_start = i*max_articles_per_attempt\n",
    "    url = 'http://export.arxiv.org/api/query?search_query=cat:cs.LG&sortBy=submittedDate&sortOrder=descending&&start='+str(n_start)+'&max_results='+str(max_articles_per_attempt)\n",
    "    url = requests.get(url).content\n",
    "    soup = BeautifulSoup(url,\"html.parser\")\n",
    "    with io.open('log-0.txt', 'a', encoding='utf8') as logfile:\n",
    "        for tr in soup.find_all('id')[1:]:\n",
    "            logfile.write(u\" %s\" % (tr.text.split(\"/\")[4].split('v')[0]))\n",
    "end_time = time.time()\n",
    "print(\"\\nRunning time is {}s\".format(end_time-start_time))\n",
    "\n",
    "with io.open('log-0.txt', 'r', encoding='utf8') as logfile:\n",
    "    s = logfile.read().split('\\n\\n')[0].split()\n",
    "    #print(s)\n",
    "logfile.close()\n",
    "print(len(s))"
   ]
  },
  {
   "cell_type": "code",
   "execution_count": 3,
   "metadata": {},
   "outputs": [],
   "source": [
    "s = list(set(s))"
   ]
  },
  {
   "cell_type": "code",
   "execution_count": 4,
   "metadata": {},
   "outputs": [
    {
     "data": {
      "text/plain": [
       "['1007.3799', '1605.00391', '1706.03492', '1306.1840', '1311.6809']"
      ]
     },
     "execution_count": 4,
     "metadata": {},
     "output_type": "execute_result"
    }
   ],
   "source": [
    "s[:5]"
   ]
  },
  {
   "cell_type": "code",
   "execution_count": 5,
   "metadata": {},
   "outputs": [
    {
     "data": {
      "text/html": [
       "<div>\n",
       "<style>\n",
       "    .dataframe thead tr:only-child th {\n",
       "        text-align: right;\n",
       "    }\n",
       "\n",
       "    .dataframe thead th {\n",
       "        text-align: left;\n",
       "    }\n",
       "\n",
       "    .dataframe tbody tr th {\n",
       "        vertical-align: top;\n",
       "    }\n",
       "</style>\n",
       "<table border=\"1\" class=\"dataframe\">\n",
       "  <thead>\n",
       "    <tr style=\"text-align: right;\">\n",
       "      <th></th>\n",
       "      <th>Year</th>\n",
       "      <th>Papers</th>\n",
       "    </tr>\n",
       "  </thead>\n",
       "  <tbody>\n",
       "    <tr>\n",
       "      <th>0</th>\n",
       "      <td>2007</td>\n",
       "      <td>73</td>\n",
       "    </tr>\n",
       "    <tr>\n",
       "      <th>1</th>\n",
       "      <td>2008</td>\n",
       "      <td>131</td>\n",
       "    </tr>\n",
       "    <tr>\n",
       "      <th>2</th>\n",
       "      <td>2009</td>\n",
       "      <td>180</td>\n",
       "    </tr>\n",
       "    <tr>\n",
       "      <th>3</th>\n",
       "      <td>2010</td>\n",
       "      <td>332</td>\n",
       "    </tr>\n",
       "    <tr>\n",
       "      <th>4</th>\n",
       "      <td>2011</td>\n",
       "      <td>467</td>\n",
       "    </tr>\n",
       "    <tr>\n",
       "      <th>5</th>\n",
       "      <td>2012</td>\n",
       "      <td>1215</td>\n",
       "    </tr>\n",
       "    <tr>\n",
       "      <th>6</th>\n",
       "      <td>2013</td>\n",
       "      <td>1366</td>\n",
       "    </tr>\n",
       "    <tr>\n",
       "      <th>7</th>\n",
       "      <td>2014</td>\n",
       "      <td>1589</td>\n",
       "    </tr>\n",
       "    <tr>\n",
       "      <th>8</th>\n",
       "      <td>2015</td>\n",
       "      <td>2430</td>\n",
       "    </tr>\n",
       "    <tr>\n",
       "      <th>9</th>\n",
       "      <td>2016</td>\n",
       "      <td>3415</td>\n",
       "    </tr>\n",
       "    <tr>\n",
       "      <th>10</th>\n",
       "      <td>2017</td>\n",
       "      <td>3831</td>\n",
       "    </tr>\n",
       "  </tbody>\n",
       "</table>\n",
       "</div>"
      ],
      "text/plain": [
       "    Year Papers\n",
       "0   2007     73\n",
       "1   2008    131\n",
       "2   2009    180\n",
       "3   2010    332\n",
       "4   2011    467\n",
       "5   2012   1215\n",
       "6   2013   1366\n",
       "7   2014   1589\n",
       "8   2015   2430\n",
       "9   2016   3415\n",
       "10  2017   3831"
      ]
     },
     "execution_count": 5,
     "metadata": {},
     "output_type": "execute_result"
    }
   ],
   "source": [
    "s1 = list(map(lambda x: x[0:2], s))\n",
    "ml_papers = pd.DataFrame(columns=['Year', 'Papers'])\n",
    "for i, item in enumerate(set(s1)):\n",
    "    if s1.count(item) > 1:\n",
    "        #print(item, s1.count(item))\n",
    "        ml_papers.loc[i, 'Year'] = item\n",
    "        ml_papers.loc[i, 'Papers'] = s1.count(item)\n",
    "ml_papers.sort_values('Year', inplace=True)\n",
    "ml_papers.reset_index(inplace=True, drop=True)\n",
    "ml_papers['Year'] = ml_papers['Year'].astype(int) + 2000\n",
    "ml_papers"
   ]
  },
  {
   "cell_type": "code",
   "execution_count": 6,
   "metadata": {},
   "outputs": [
    {
     "data": {
      "image/png": "[encoded data removed]",
      "text/plain": [
       "<matplotlib.figure.Figure at 0x7f7d002a17b8>"
      ]
     },
     "metadata": {},
     "output_type": "display_data"
    }
   ],
   "source": [
    "import matplotlib.pyplot as plt\n",
    "\n",
    "plt.bar(ml_papers['Year'], ml_papers['Papers'], width=0.9, color='lightblue')\n",
    "#plt.axis('off')\n",
    "ax = plt.gca()\n",
    "ax.set_title(\"Number of papers on Machine Learning \\n (arXiv:cs.GL) by Oct 27, 2017\", size=14)\n",
    "ax.set_xlim(2006.5, 2017.5)\n",
    "\n",
    "rects = ax.patches\n",
    "labels = [ml_papers.loc[i, 'Papers'] for i in range(len(rects))]\n",
    "\n",
    "for rect, label in zip(rects, labels):\n",
    "    height = rect.get_height()\n",
    "    ax.text(rect.get_x() + rect.get_width()/2, height + 15, label, ha='center', va='bottom', color='black')\n",
    "\n",
    "ax.tick_params(axis ='x', which='minor', length=0)\n",
    "ax.tick_params(axis ='both', which='major', length=0)\n",
    "ax.set_yticklabels = ['']\n",
    "ax.axes.get_yaxis().set_visible(False)\n",
    "ax.spines['top'].set_visible(False)\n",
    "ax.spines['right'].set_visible(False)\n",
    "ax.spines['bottom'].set_visible(False)\n",
    "ax.spines['left'].set_visible(False)\n",
    "plt.savefig(\"visual-1.pdf\", format=\"pdf\", transparent=True,rasterized=True,dpi=300)\n",
    "plt.show()"
   ]
  },
  {
   "cell_type": "code",
   "execution_count": null,
   "metadata": {
    "collapsed": true
   },
   "outputs": [],
   "source": []
  }
 ],
 "metadata": {
  "kernelspec": {
   "display_name": "Python 3",
   "language": "python",
   "name": "python3"
  },
  "language_info": {
   "codemirror_mode": {
    "name": "ipython",
    "version": 3
   },
   "file_extension": ".py",
   "mimetype": "text/x-python",
   "name": "python",
   "nbconvert_exporter": "python",
   "pygments_lexer": "ipython3",
   "version": "3.6.1"
  }
 },
 "nbformat": 4,
 "nbformat_minor": 2
}
